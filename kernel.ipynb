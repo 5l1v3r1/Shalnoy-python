{
  "cells": [
    {
      "metadata": {
        "trusted": true,
        "_uuid": "c79881d2867260370d3b70906a084f39666c9388"
      },
      "cell_type": "code",
      "source": "import pandas as pd\nfrom random import *",
      "execution_count": null,
      "outputs": []
    },
    {
      "metadata": {
        "trusted": true,
        "_uuid": "497185f98a5db246818ea26357e3f2118455d754"
      },
      "cell_type": "code",
      "source": "data = pd.DataFrame(columns = ('Лекция The Matryoshka-type strategy of human pathogens and Japanese challenges of the elimination of parasitic diseases',\n'лекцию о нанотехнологиях','Зимняя школа «Инженеры будущего','Вызовы IV промышленной революции и цифровая трансформация производств',\n'лекция экономические отношения Китая и США','Лекция Михаила Тендлера «О том, как рождается новая искусственная звезда»',\n'Всероссийская физико-техническая контрольная «Выходи решать»','Кейс-чемпионат GPN Intelligence Cup от «Газпром нефти»',\n'«Газинформсервис» запускает образовательный проект по кибербезопасности “Security Skills”',\n'Образовательная акция «Всероссийский экономический диктант»','Образовательная акция «Всероссийский экономический диктант»',\n'Вебинар для ознакомления с ресурсом Nature Masterclasses: Scientific Writing and Publishing','Семинар по фундаментальным проблемам аэродинамики в формате видеоконференции',\n'Семинар по фундаментальным проблемам аэродинамики в формате видеоконференции','XIII ежегодная всероссийская научно-практическая конференция с международным участием «Здоровье – основа человеческого потенциала: проблемы и пути их решения»',\n'Конференция «Цифровая экономика – цифровое пространство. Региональный аспект»','История политехнического образования в России',\n'Международная Конференция «Коррозия в нефтегазовой отрасли»','Международная Конференция «Коррозия в нефтегазовой отрасли»','Современные материалы и передовые производственные технологии',\n'Конференция по физике плазмы','Открытие лаборатории «Промышленные системы искусственного интеллекта» в СПбПУ','«Робот-скалолаз»: X интенсив для школьников в Фаблаб Политех'))",
      "execution_count": null,
      "outputs": []
    },
    {
      "metadata": {
        "trusted": true,
        "_uuid": "6131a564690423629f9e566b68f4537f9429b822"
      },
      "cell_type": "code",
      "source": "X_train = pd.DataFrame(columns = ('Biology', 'IT', 'Engineering', 'IT2', 'Economy', 'Astronomy', 'IT/Physics', 'IT/Economy', 'IT3', 'Economy2', 'Linguistics', 'Engineering2', 'Biology2', 'IT/Economy2', 'Politics', 'Engineering3', 'Engineering4', 'Physics', 'IT4', 'IT/engineering'))\nX_test = pd.DataFrame(columns = ('Biology', 'IT', 'Engineering', 'IT2', 'Economy', 'Astronomy', 'IT/Physics', 'IT/Economy', 'IT3', 'Economy2', 'Linguistics', 'Engineering2', 'Biology2', 'IT/Economy2', 'Politics', 'Engineering3', 'Engineering4', 'Physics', 'IT4', 'IT/engineering'))",
      "execution_count": null,
      "outputs": []
    },
    {
      "metadata": {
        "trusted": true,
        "_uuid": "a337eeefd0a4b450af66633e9b92b0f71e954db6"
      },
      "cell_type": "code",
      "source": "d = list('')\n\nfor i in range(10000):\n    for e in range(20):\n        x = randint(0, 1)\n        d.append(x)\n    X_train.loc[-1] = d  # adding a row\n    X_train.index = X_train.index + 1  # shifting index\n    X_train = X_train.sort_index()  # sorting by index\n    d = list('')\n    \nd = list('')\n\nfor i in range(60):\n    for e in range(20):\n        x = randint(0, 1)\n        d.append(x)\n    X_test.loc[-1] = d  # adding a row\n    X_test.index = X_test.index + 1  # shifting index\n    X_test = X_test.sort_index()  # sorting by index\n    d = list('')",
      "execution_count": null,
      "outputs": []
    },
    {
      "metadata": {
        "trusted": true,
        "_uuid": "7854490a3d079f0b4c8094871b9fa68279e4649a"
      },
      "cell_type": "code",
      "source": "X_train['IT_sum'] = X_train['IT'] + X_train['IT2'] + X_train['IT3'] + X_train['IT4'] + X_train['IT/Physics'] / 2 + X_train['IT/Economy'] / 2 + X_train['IT/Economy2'] / 2 + X_train['IT/engineering'] / 2\nX_train['Biology_sum'] = X_train['Biology'] + X_train['Biology2']\nX_train['Engineering_sum'] = X_train['Engineering'] + X_train['Engineering2'] + X_train['Engineering3'] + X_train['Engineering4'] + X_train['IT/engineering'] / 2\nX_train['Economy_sum'] = X_train['Economy'] + X_train['Economy2'] + X_train['IT/Economy'] / 2 + X_train['IT/Economy2'] / 2\nX_train['Linguistics_sum'] = X_train['Linguistics']\nX_train['Astronomy_sum'] = X_train['Astronomy']\nX_train['Physics_sum'] = X_train['Physics'] + X_train['IT/Physics'] / 2\nX_train['Politics_sum'] = X_train['Politics']\n\nX_test['IT_sum'] = X_test['IT'] + X_test['IT2'] + X_test['IT3'] + X_test['IT4'] + X_test['IT/Physics'] / 2 + X_test['IT/Economy'] / 2 + X_test['IT/Economy2'] / 2 + X_test['IT/engineering'] / 2\nX_test['Biology_sum'] = X_test['Biology'] + X_test['Biology2']\nX_test['Engineering_sum'] = X_test['Engineering'] + X_test['Engineering2'] + X_test['Engineering3'] + X_test['Engineering4'] + X_test['IT/engineering'] / 2\nX_test['Economy_sum'] = X_test['Economy'] + X_test['Economy2'] + X_test['IT/Economy'] / 2 + X_test['IT/Economy2'] / 2\nX_test['Linguistics_sum'] = X_test['Linguistics']\nX_test['Astronomy_sum'] = X_test['Astronomy']\nX_test['Physics_sum'] = X_test['Physics'] + X_test['IT/Physics'] / 2\nX_test['Politics_sum'] = X_test['Politics']",
      "execution_count": null,
      "outputs": []
    },
    {
      "metadata": {
        "trusted": true,
        "_uuid": "beabe318d04e575bc20d576a45441355c1890808"
      },
      "cell_type": "code",
      "source": "X_train['Max'] = X_train[['Astronomy_sum','IT_sum','Biology_sum','Engineering_sum','Economy_sum','Linguistics_sum','Physics_sum','Politics_sum']].astype('float64').idxmax(axis = 1) \nX_train['HighScore'] = X_train[['IT_sum','Biology_sum','Engineering_sum','Economy_sum','Linguistics_sum','Astronomy_sum','Physics_sum','Politics_sum']].max(axis = 1)\n\nX_test['HighScore'] = X_train[['IT_sum','Biology_sum','Engineering_sum','Economy_sum','Linguistics_sum','Astronomy_sum','Physics_sum','Politics_sum']].max(axis = 1)",
      "execution_count": null,
      "outputs": []
    },
    {
      "metadata": {
        "trusted": true,
        "_uuid": "cfc93d2a05be318f8701eaf678145af33ffca712"
      },
      "cell_type": "code",
      "source": "X_train['Max'] = X_train['Max'].map({'IT_sum': 1, 'Biology_sum': 2, 'Engineering_sum': 3, 'Economy_sum': 4, 'Linguistics_sum': 5, 'Astronomy_sum': 6, 'Physics_sum': 7, 'Politics_sum': 8})",
      "execution_count": null,
      "outputs": []
    },
    {
      "metadata": {
        "trusted": true,
        "_uuid": "8fe2787bfe38541b416a0c7e036a48f32bf88a21"
      },
      "cell_type": "code",
      "source": "X_train.head()",
      "execution_count": null,
      "outputs": []
    },
    {
      "metadata": {
        "trusted": true,
        "_uuid": "f92fde6babee01670790b42fed09fa459fece08f"
      },
      "cell_type": "code",
      "source": "y_train = pd.DataFrame(X_train.Max)\nX_train = X_train.drop('Max', axis = 1)",
      "execution_count": null,
      "outputs": []
    },
    {
      "metadata": {
        "trusted": true,
        "_uuid": "86a274c2e14ceb3fa7467e20d527781db435576f",
        "scrolled": true
      },
      "cell_type": "code",
      "source": "y_train.head() ",
      "execution_count": null,
      "outputs": []
    },
    {
      "metadata": {
        "trusted": true,
        "_uuid": "2a27628f40140e1425c6de15a27b19c4e2a4d48a"
      },
      "cell_type": "code",
      "source": "from catboost import *\n\nclf = CatBoostClassifier(eval_metric = \"Accuracy\", loss_function='MultiClass', task_type='GPU', n_estimators = 900)\nclf.fit(X_train, y_train, plot = True)",
      "execution_count": null,
      "outputs": []
    },
    {
      "metadata": {
        "trusted": true,
        "_uuid": "32c35fada82a140acfac855b9d38ddaef39617fa"
      },
      "cell_type": "code",
      "source": "y_pred_cb = clf.predict(X_test)",
      "execution_count": null,
      "outputs": []
    },
    {
      "metadata": {
        "trusted": true,
        "_uuid": "6d07327ea6b4c58da77ae3275c3af67899f97807"
      },
      "cell_type": "code",
      "source": "y_pred = y_pred_cb.astype(int)",
      "execution_count": null,
      "outputs": []
    },
    {
      "metadata": {
        "trusted": true,
        "_uuid": "6caf34d3ff11e2c95ef85a05b14fd887ee7a78da"
      },
      "cell_type": "code",
      "source": "f = list(\"\")\n\nfor i in range(len(y_pred)):\n    f.append(y_pred[i][0])",
      "execution_count": null,
      "outputs": []
    },
    {
      "metadata": {
        "trusted": true,
        "_uuid": "8eedf27830897f157a47a8d60dd4fa013663d99b"
      },
      "cell_type": "code",
      "source": "Result = pd.DataFrame()\nRes = pd.DataFrame()\nRes['f'] = f\nResult['res'] = Res['f'].map({1: 'Хакатон 2019', 2: 'XIII ежегодную всероссийскую научно-практическая конференцию с международным участием «Здоровье – основа человеческого потенциала: проблемы и пути их решения»', 3: 'Интенсив для школьников в Фаблаб Политех', 4: 'Образовательная акция «Всероссийский экономический диктант»', 5: 'Вебинар для ознакомления с ресурсом Nature Masterclasses: Scientific Writing and Publishing', 6: 'Лекция Михаила Тендлера «О том, как рождается новая искусственная звезда»', 7: 'Конференция по физике плазмы', 8: 'Семинар по истории политехнического образования в России'})",
      "execution_count": null,
      "outputs": []
    },
    {
      "metadata": {
        "trusted": true,
        "_uuid": "c93333ad18265f001a761e5ee22b2e20b4c90fcf"
      },
      "cell_type": "code",
      "source": "Result.head()",
      "execution_count": null,
      "outputs": []
    },
    {
      "metadata": {
        "trusted": true,
        "_uuid": "8866fbce373d918de9eb2477c2177041057b48f8"
      },
      "cell_type": "code",
      "source": "Result.to_csv('Result.csv', index = False)",
      "execution_count": null,
      "outputs": []
    }
  ],
  "metadata": {
    "kernelspec": {
      "display_name": "Python 3",
      "language": "python",
      "name": "python3"
    },
    "language_info": {
      "name": "python",
      "version": "3.6.6",
      "mimetype": "text/x-python",
      "codemirror_mode": {
        "name": "ipython",
        "version": 3
      },
      "pygments_lexer": "ipython3",
      "nbconvert_exporter": "python",
      "file_extension": ".py"
    }
  },
  "nbformat": 4,
  "nbformat_minor": 1
}